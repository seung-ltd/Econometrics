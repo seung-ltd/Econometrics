{
 "cells": [
  {
   "cell_type": "code",
   "execution_count": 5,
   "id": "55c911ce-35bd-4adc-9c54-298d1f03c6a7",
   "metadata": {},
   "outputs": [],
   "source": [
    "import pandas as pd\n",
    "\n",
    "df = pd.read_excel(\"ECO334/rfas.xlsx\")"
   ]
  },
  {
   "cell_type": "code",
   "execution_count": 6,
   "id": "e3644053-11d7-4ade-a048-ca7e44001cf8",
   "metadata": {},
   "outputs": [
    {
     "data": {
      "text/html": [
       "<div>\n",
       "<style scoped>\n",
       "    .dataframe tbody tr th:only-of-type {\n",
       "        vertical-align: middle;\n",
       "    }\n",
       "\n",
       "    .dataframe tbody tr th {\n",
       "        vertical-align: top;\n",
       "    }\n",
       "\n",
       "    .dataframe thead th {\n",
       "        text-align: right;\n",
       "    }\n",
       "</style>\n",
       "<table border=\"1\" class=\"dataframe\">\n",
       "  <thead>\n",
       "    <tr style=\"text-align: right;\">\n",
       "      <th></th>\n",
       "      <th>year</th>\n",
       "      <th>radiofam</th>\n",
       "      <th>stations</th>\n",
       "      <th>family</th>\n",
       "    </tr>\n",
       "  </thead>\n",
       "  <tbody>\n",
       "    <tr>\n",
       "      <th>0</th>\n",
       "      <td>1922</td>\n",
       "      <td>60000</td>\n",
       "      <td>30</td>\n",
       "      <td>25524141</td>\n",
       "    </tr>\n",
       "    <tr>\n",
       "      <th>1</th>\n",
       "      <td>1923</td>\n",
       "      <td>1000000</td>\n",
       "      <td>556</td>\n",
       "      <td>26071748</td>\n",
       "    </tr>\n",
       "    <tr>\n",
       "      <th>2</th>\n",
       "      <td>1924</td>\n",
       "      <td>2500000</td>\n",
       "      <td>530</td>\n",
       "      <td>25524141</td>\n",
       "    </tr>\n",
       "    <tr>\n",
       "      <th>3</th>\n",
       "      <td>1925</td>\n",
       "      <td>3500000</td>\n",
       "      <td>571</td>\n",
       "      <td>27166963</td>\n",
       "    </tr>\n",
       "    <tr>\n",
       "      <th>4</th>\n",
       "      <td>1926</td>\n",
       "      <td>5000000</td>\n",
       "      <td>528</td>\n",
       "      <td>27714570</td>\n",
       "    </tr>\n",
       "  </tbody>\n",
       "</table>\n",
       "</div>"
      ],
      "text/plain": [
       "   year  radiofam  stations    family\n",
       "0  1922     60000        30  25524141\n",
       "1  1923   1000000       556  26071748\n",
       "2  1924   2500000       530  25524141\n",
       "3  1925   3500000       571  27166963\n",
       "4  1926   5000000       528  27714570"
      ]
     },
     "execution_count": 6,
     "metadata": {},
     "output_type": "execute_result"
    }
   ],
   "source": [
    "df.head()"
   ]
  },
  {
   "cell_type": "code",
   "execution_count": 8,
   "id": "30ef9b7e-1809-4dde-b301-949d4d21f342",
   "metadata": {},
   "outputs": [],
   "source": [
    "radiofam = df['radiofam']\n",
    "family = df['family']\n",
    "df['radio_percentage'] = radiofam / family * 100"
   ]
  },
  {
   "cell_type": "code",
   "execution_count": 10,
   "id": "24f57674-8530-4aab-bc8a-b6c5a5797d10",
   "metadata": {},
   "outputs": [
    {
     "data": {
      "text/html": [
       "<div>\n",
       "<style scoped>\n",
       "    .dataframe tbody tr th:only-of-type {\n",
       "        vertical-align: middle;\n",
       "    }\n",
       "\n",
       "    .dataframe tbody tr th {\n",
       "        vertical-align: top;\n",
       "    }\n",
       "\n",
       "    .dataframe thead th {\n",
       "        text-align: right;\n",
       "    }\n",
       "</style>\n",
       "<table border=\"1\" class=\"dataframe\">\n",
       "  <thead>\n",
       "    <tr style=\"text-align: right;\">\n",
       "      <th></th>\n",
       "      <th>year</th>\n",
       "      <th>radiofam</th>\n",
       "      <th>stations</th>\n",
       "      <th>family</th>\n",
       "      <th>radio_percentage</th>\n",
       "    </tr>\n",
       "  </thead>\n",
       "  <tbody>\n",
       "    <tr>\n",
       "      <th>count</th>\n",
       "      <td>19.000000</td>\n",
       "      <td>1.900000e+01</td>\n",
       "      <td>19.000000</td>\n",
       "      <td>1.900000e+01</td>\n",
       "      <td>19.000000</td>\n",
       "    </tr>\n",
       "    <tr>\n",
       "      <th>mean</th>\n",
       "      <td>1931.000000</td>\n",
       "      <td>1.470590e+07</td>\n",
       "      <td>605.105263</td>\n",
       "      <td>3.026989e+07</td>\n",
       "      <td>45.815577</td>\n",
       "    </tr>\n",
       "    <tr>\n",
       "      <th>std</th>\n",
       "      <td>5.627314</td>\n",
       "      <td>1.025516e+07</td>\n",
       "      <td>159.399531</td>\n",
       "      <td>3.027581e+06</td>\n",
       "      <td>29.581551</td>\n",
       "    </tr>\n",
       "    <tr>\n",
       "      <th>min</th>\n",
       "      <td>1922.000000</td>\n",
       "      <td>6.000000e+04</td>\n",
       "      <td>30.000000</td>\n",
       "      <td>2.552414e+07</td>\n",
       "      <td>0.235072</td>\n",
       "    </tr>\n",
       "    <tr>\n",
       "      <th>25%</th>\n",
       "      <td>1926.500000</td>\n",
       "      <td>5.750000e+06</td>\n",
       "      <td>581.000000</td>\n",
       "      <td>2.798837e+07</td>\n",
       "      <td>20.519994</td>\n",
       "    </tr>\n",
       "    <tr>\n",
       "      <th>50%</th>\n",
       "      <td>1931.000000</td>\n",
       "      <td>1.400000e+07</td>\n",
       "      <td>612.000000</td>\n",
       "      <td>3.040940e+07</td>\n",
       "      <td>46.038396</td>\n",
       "    </tr>\n",
       "    <tr>\n",
       "      <th>75%</th>\n",
       "      <td>1935.500000</td>\n",
       "      <td>2.373450e+07</td>\n",
       "      <td>681.000000</td>\n",
       "      <td>3.267920e+07</td>\n",
       "      <td>72.612652</td>\n",
       "    </tr>\n",
       "    <tr>\n",
       "      <th>max</th>\n",
       "      <td>1940.000000</td>\n",
       "      <td>2.930000e+07</td>\n",
       "      <td>814.000000</td>\n",
       "      <td>3.494900e+07</td>\n",
       "      <td>83.836447</td>\n",
       "    </tr>\n",
       "  </tbody>\n",
       "</table>\n",
       "</div>"
      ],
      "text/plain": [
       "              year      radiofam    stations        family  radio_percentage\n",
       "count    19.000000  1.900000e+01   19.000000  1.900000e+01         19.000000\n",
       "mean   1931.000000  1.470590e+07  605.105263  3.026989e+07         45.815577\n",
       "std       5.627314  1.025516e+07  159.399531  3.027581e+06         29.581551\n",
       "min    1922.000000  6.000000e+04   30.000000  2.552414e+07          0.235072\n",
       "25%    1926.500000  5.750000e+06  581.000000  2.798837e+07         20.519994\n",
       "50%    1931.000000  1.400000e+07  612.000000  3.040940e+07         46.038396\n",
       "75%    1935.500000  2.373450e+07  681.000000  3.267920e+07         72.612652\n",
       "max    1940.000000  2.930000e+07  814.000000  3.494900e+07         83.836447"
      ]
     },
     "execution_count": 10,
     "metadata": {},
     "output_type": "execute_result"
    }
   ],
   "source": [
    "df.describe()"
   ]
  },
  {
   "cell_type": "markdown",
   "id": "2192914b-e6d2-45fd-a519-2f2dc7d017e0",
   "metadata": {},
   "source": [
    "## Question 1a\n",
    "The mean and standard deviation of this new variable are 45.82 and 29.58 respectively.\n",
    "## Question 1b"
   ]
  },
  {
   "cell_type": "code",
   "execution_count": 15,
   "id": "95d7600e-e3e3-4c6c-a5eb-7b06401ffb73",
   "metadata": {},
   "outputs": [
    {
     "data": {
      "text/plain": [
       "Text(0, 0.5, 'Percentage of Families')"
      ]
     },
     "execution_count": 15,
     "metadata": {},
     "output_type": "execute_result"
    },
    {
     "data": {
      "image/png": "[encoded data removed]",
      "text/plain": [
       "<Figure size 640x480 with 1 Axes>"
      ]
     },
     "metadata": {},
     "output_type": "display_data"
    }
   ],
   "source": [
    "import matplotlib.pyplot as plt\n",
    "import pandas as pd\n",
    "\n",
    "plt.fill_between(df['year'], df['radio_percentage'])\n",
    "plt.plot(df['year'], df['radio_percentage'])\n",
    "plt.title('Percentage of Families Owning a Radio (1922-1940)')\n",
    "plt.xlabel('Year')\n",
    "plt.xticks(range(1922, 1941, 1), rotation = 90)\n",
    "plt.ylabel('Percentage of Families')"
   ]
  },
  {
   "cell_type": "code",
   "execution_count": 18,
   "id": "4b6a5db1-82f9-4d35-adbc-8ba08b9b05bc",
   "metadata": {},
   "outputs": [
    {
     "name": "stdout",
     "output_type": "stream",
     "text": [
      "                            OLS Regression Results                            \n",
      "==============================================================================\n",
      "Dep. Variable:       radio_percentage   R-squared:                       0.360\n",
      "Model:                            OLS   Adj. R-squared:                  0.323\n",
      "Method:                 Least Squares   F-statistic:                     9.582\n",
      "Date:                Fri, 02 Feb 2024   Prob (F-statistic):            0.00657\n",
      "Time:                        22:18:06   Log-Likelihood:                -86.556\n",
      "No. Observations:                  19   AIC:                             177.1\n",
      "Df Residuals:                      17   BIC:                             179.0\n",
      "Df Model:                           1                                         \n",
      "Covariance Type:            nonrobust                                         \n",
      "==============================================================================\n",
      "                 coef    std err          t      P>|t|      [0.025      0.975]\n",
      "------------------------------------------------------------------------------\n",
      "const        -21.6051     22.485     -0.961      0.350     -69.045      25.835\n",
      "stations       0.1114      0.036      3.095      0.007       0.035       0.187\n",
      "==============================================================================\n",
      "Omnibus:                        8.327   Durbin-Watson:                   0.409\n",
      "Prob(Omnibus):                  0.016   Jarque-Bera (JB):                2.211\n",
      "Skew:                          -0.359   Prob(JB):                        0.331\n",
      "Kurtosis:                       1.491   Cond. No.                     2.52e+03\n",
      "==============================================================================\n",
      "\n",
      "Notes:\n",
      "[1] Standard Errors assume that the covariance matrix of the errors is correctly specified.\n",
      "[2] The condition number is large, 2.52e+03. This might indicate that there are\n",
      "strong multicollinearity or other numerical problems.\n"
     ]
    },
    {
     "name": "stderr",
     "output_type": "stream",
     "text": [
      "/Users/jaeseung/Library/jupyterlab-desktop/jlab_server/lib/python3.8/site-packages/scipy/stats/_stats_py.py:1736: UserWarning: kurtosistest only valid for n>=20 ... continuing anyway, n=19\n",
      "  warnings.warn(\"kurtosistest only valid for n>=20 ... continuing \"\n"
     ]
    }
   ],
   "source": [
    "import statsmodels.api as sm\n",
    "\n",
    "X = df['stations']\n",
    "y = df['radio_percentage']\n",
    "X1 = sm.add_constant(X)\n",
    "model = sm.OLS(y, X1)\n",
    "results = model.fit()\n",
    "print(results.summary())"
   ]
  },
  {
   "cell_type": "markdown",
   "id": "faf23954-fd4c-48e4-80cd-7cfd3ced042f",
   "metadata": {},
   "source": [
    "## Question 1c\n",
    "The regression coefficient tells us that for every new radio system the percentage of homes with radio increases by 0.11 percentage points. The p value of 0.007 for the coefficient is below 0.05 indicating that it is statistically significant."
   ]
  },
  {
   "cell_type": "markdown",
   "id": "127c33a8-9df9-4aa0-9358-dd2625ce5be1",
   "metadata": {},
   "source": [
    "## Question 2a"
   ]
  },
  {
   "cell_type": "code",
   "execution_count": 60,
   "id": "5ccc1b97-e456-45ae-ae90-20043c64ae6b",
   "metadata": {},
   "outputs": [
    {
     "data": {
      "text/html": [
       "<div>\n",
       "<style scoped>\n",
       "    .dataframe tbody tr th:only-of-type {\n",
       "        vertical-align: middle;\n",
       "    }\n",
       "\n",
       "    .dataframe tbody tr th {\n",
       "        vertical-align: top;\n",
       "    }\n",
       "\n",
       "    .dataframe thead th {\n",
       "        text-align: right;\n",
       "    }\n",
       "</style>\n",
       "<table border=\"1\" class=\"dataframe\">\n",
       "  <thead>\n",
       "    <tr style=\"text-align: right;\">\n",
       "      <th></th>\n",
       "      <th>state</th>\n",
       "      <th>region</th>\n",
       "      <th>female</th>\n",
       "      <th>age</th>\n",
       "      <th>black</th>\n",
       "      <th>occ</th>\n",
       "      <th>voted_roosevelt</th>\n",
       "      <th>listen_coughlin</th>\n",
       "      <th>year</th>\n",
       "    </tr>\n",
       "  </thead>\n",
       "  <tbody>\n",
       "    <tr>\n",
       "      <th>0</th>\n",
       "      <td>California</td>\n",
       "      <td>West</td>\n",
       "      <td>1</td>\n",
       "      <td>28</td>\n",
       "      <td>0</td>\n",
       "      <td>Other</td>\n",
       "      <td>1.0</td>\n",
       "      <td>1.0</td>\n",
       "      <td>1938</td>\n",
       "    </tr>\n",
       "    <tr>\n",
       "      <th>1</th>\n",
       "      <td>West Virginia</td>\n",
       "      <td>Northeast</td>\n",
       "      <td>0</td>\n",
       "      <td>29</td>\n",
       "      <td>0</td>\n",
       "      <td>Other</td>\n",
       "      <td>0.0</td>\n",
       "      <td>1.0</td>\n",
       "      <td>1938</td>\n",
       "    </tr>\n",
       "    <tr>\n",
       "      <th>2</th>\n",
       "      <td>Illinois</td>\n",
       "      <td>Midwest</td>\n",
       "      <td>0</td>\n",
       "      <td>27</td>\n",
       "      <td>0</td>\n",
       "      <td>White Collar</td>\n",
       "      <td>0.0</td>\n",
       "      <td>0.0</td>\n",
       "      <td>1938</td>\n",
       "    </tr>\n",
       "    <tr>\n",
       "      <th>3</th>\n",
       "      <td>Ohio</td>\n",
       "      <td>Midwest</td>\n",
       "      <td>0</td>\n",
       "      <td>27</td>\n",
       "      <td>0</td>\n",
       "      <td>Professional</td>\n",
       "      <td>0.0</td>\n",
       "      <td>0.0</td>\n",
       "      <td>1938</td>\n",
       "    </tr>\n",
       "    <tr>\n",
       "      <th>4</th>\n",
       "      <td>Indiana</td>\n",
       "      <td>Midwest</td>\n",
       "      <td>0</td>\n",
       "      <td>21</td>\n",
       "      <td>0</td>\n",
       "      <td>Other</td>\n",
       "      <td>0.0</td>\n",
       "      <td>0.0</td>\n",
       "      <td>1938</td>\n",
       "    </tr>\n",
       "  </tbody>\n",
       "</table>\n",
       "</div>"
      ],
      "text/plain": [
       "           state     region  female  age  black           occ  \\\n",
       "0     California       West       1   28      0         Other   \n",
       "1  West Virginia  Northeast       0   29      0         Other   \n",
       "2       Illinois    Midwest       0   27      0  White Collar   \n",
       "3           Ohio    Midwest       0   27      0  Professional   \n",
       "4        Indiana    Midwest       0   21      0         Other   \n",
       "\n",
       "   voted_roosevelt  listen_coughlin  year  \n",
       "0              1.0              1.0  1938  \n",
       "1              0.0              1.0  1938  \n",
       "2              0.0              0.0  1938  \n",
       "3              0.0              0.0  1938  \n",
       "4              0.0              0.0  1938  "
      ]
     },
     "execution_count": 60,
     "metadata": {},
     "output_type": "execute_result"
    }
   ],
   "source": [
    "df2 = pd.read_stata(\"ECO334/gpa.dta\")\n",
    "df2.head()"
   ]
  },
  {
   "cell_type": "code",
   "execution_count": 61,
   "id": "4977b31e-acd6-4561-bcad-1b5fb5f3c281",
   "metadata": {},
   "outputs": [
    {
     "name": "stdout",
     "output_type": "stream",
     "text": [
      "<class 'pandas.core.frame.DataFrame'>\n",
      "RangeIndex: 3174 entries, 0 to 3173\n",
      "Data columns (total 9 columns):\n",
      " #   Column           Non-Null Count  Dtype   \n",
      "---  ------           --------------  -----   \n",
      " 0   state            3174 non-null   category\n",
      " 1   region           3174 non-null   category\n",
      " 2   female           3174 non-null   int8    \n",
      " 3   age              3174 non-null   int8    \n",
      " 4   black            3174 non-null   int8    \n",
      " 5   occ              3174 non-null   category\n",
      " 6   voted_roosevelt  3114 non-null   float32 \n",
      " 7   listen_coughlin  3053 non-null   float32 \n",
      " 8   year             3174 non-null   int16   \n",
      "dtypes: category(3), float32(2), int16(1), int8(3)\n",
      "memory usage: 51.5 KB\n"
     ]
    }
   ],
   "source": [
    "df2.info()"
   ]
  },
  {
   "cell_type": "code",
   "execution_count": 26,
   "id": "dd567f64-2c10-4d06-9ec0-4090066d7043",
   "metadata": {},
   "outputs": [
    {
     "name": "stdout",
     "output_type": "stream",
     "text": [
      "The share of regular Coughlin listeners before the 1936 election is 30.04%\n"
     ]
    }
   ],
   "source": [
    "coughlin_listeners_share = df2['listen_coughlin'].mean()\n",
    "coughlin_listeners_share = round(coughlin_listeners_share * 100, 2)\n",
    "print(f\"The share of regular Coughlin listeners before the 1936 election is {coughlin_listeners_share}%\")"
   ]
  },
  {
   "cell_type": "markdown",
   "id": "6df77a34-f68c-4dd2-b2db-d1e5aac0feba",
   "metadata": {},
   "source": [
    "## Question 2b"
   ]
  },
  {
   "cell_type": "code",
   "execution_count": 31,
   "id": "41c6fae4-b123-47b0-8233-a34422387c54",
   "metadata": {},
   "outputs": [
    {
     "name": "stdout",
     "output_type": "stream",
     "text": [
      "The share of respondents in the Northeast that regularly listened to Coughlin is 36.36%\n"
     ]
    },
    {
     "data": {
      "image/png": "[encoded data removed]",
      "text/plain": [
       "<Figure size 640x480 with 1 Axes>"
      ]
     },
     "metadata": {},
     "output_type": "display_data"
    }
   ],
   "source": [
    "region_coughlin_share = df2.groupby('region')['listen_coughlin'].mean()\n",
    "region_coughlin_share.plot(kind='bar')\n",
    "plt.ylabel('Percentage')\n",
    "northeast_coughlin_share = df2[df2['region'] == 'Northeast']['listen_coughlin'].mean()\n",
    "northeast_coughlin_share = round(northeast_coughlin_share * 100, 2)\n",
    "print(f\"The share of respondents in the Northeast that regularly listened to Coughlin is {northeast_coughlin_share}%\")"
   ]
  },
  {
   "cell_type": "markdown",
   "id": "70b66a8f-0193-44c6-8027-e8025137d406",
   "metadata": {},
   "source": [
    "## Question 2c"
   ]
  },
  {
   "cell_type": "code",
   "execution_count": 33,
   "id": "db11d761-798d-4222-80da-9a0d7f4290f3",
   "metadata": {},
   "outputs": [
    {
     "name": "stdout",
     "output_type": "stream",
     "text": [
      "The share of respondents that voted for Roosevelt in the 1936 election is 51.0%\n"
     ]
    }
   ],
   "source": [
    "roosevelt_voters_share = df2['voted_roosevelt'].mean()\n",
    "roosevelt_voters_share = round(roosevelt_voters_share * 100, 2)\n",
    "print(f\"The share of respondents that voted for Roosevelt in the 1936 election is {roosevelt_voters_share}%\")"
   ]
  },
  {
   "cell_type": "markdown",
   "id": "323aa35d-6f62-4a00-b3b3-1ee11a49ecaf",
   "metadata": {},
   "source": [
    "## Question 2d"
   ]
  },
  {
   "cell_type": "code",
   "execution_count": 36,
   "id": "4edac465-0bb5-47d2-9880-9a2e94390496",
   "metadata": {},
   "outputs": [
    {
     "data": {
      "image/png": "[encoded data removed]",
      "text/plain": [
       "<Figure size 640x480 with 1 Axes>"
      ]
     },
     "metadata": {},
     "output_type": "display_data"
    }
   ],
   "source": [
    "df2['age'].hist(bins=60)\n",
    "plt.title('Age Distribution of Respondents')\n",
    "plt.xlabel('Age')\n",
    "plt.ylabel('Frequency')\n",
    "plt.show()"
   ]
  },
  {
   "cell_type": "code",
   "execution_count": 67,
   "id": "588035fb-41b3-40d2-a233-8e4a695bd61c",
   "metadata": {},
   "outputs": [
    {
     "data": {
      "text/plain": [
       "state                0\n",
       "region               0\n",
       "female               0\n",
       "age                  0\n",
       "black                0\n",
       "occ                  0\n",
       "voted_roosevelt      0\n",
       "listen_coughlin    114\n",
       "year                 0\n",
       "dtype: int64"
      ]
     },
     "execution_count": 67,
     "metadata": {},
     "output_type": "execute_result"
    }
   ],
   "source": [
    "df2.isna().sum()"
   ]
  },
  {
   "cell_type": "code",
   "execution_count": 66,
   "id": "2204a833-eae8-41e1-85ba-3e1c93fc5d65",
   "metadata": {},
   "outputs": [],
   "source": [
    "df2.dropna(subset = ['voted_roosevelt'], inplace=True)"
   ]
  },
  {
   "cell_type": "code",
   "execution_count": 68,
   "id": "64306245-c85f-41cb-b1d7-f99b44df3c38",
   "metadata": {},
   "outputs": [
    {
     "name": "stdout",
     "output_type": "stream",
     "text": [
      "                            OLS Regression Results                            \n",
      "==============================================================================\n",
      "Dep. Variable:        voted_roosevelt   R-squared:                       0.021\n",
      "Model:                            OLS   Adj. R-squared:                  0.020\n",
      "Method:                 Least Squares   F-statistic:                     21.81\n",
      "Date:                Fri, 02 Feb 2024   Prob (F-statistic):           5.64e-14\n",
      "Time:                        23:40:05   Log-Likelihood:                -2227.1\n",
      "No. Observations:                3114   AIC:                             4462.\n",
      "Df Residuals:                    3110   BIC:                             4486.\n",
      "Df Model:                           3                                         \n",
      "Covariance Type:            nonrobust                                         \n",
      "==============================================================================\n",
      "                 coef    std err          t      P>|t|      [0.025      0.975]\n",
      "------------------------------------------------------------------------------\n",
      "const          0.3471      0.029     11.989      0.000       0.290       0.404\n",
      "female        -0.0626      0.019     -3.308      0.001      -0.100      -0.025\n",
      "black         -0.0411      0.058     -0.715      0.475      -0.154       0.072\n",
      "age            0.0046      0.001      7.040      0.000       0.003       0.006\n",
      "==============================================================================\n",
      "Omnibus:                    11549.426   Durbin-Watson:                   1.566\n",
      "Prob(Omnibus):                  0.000   Jarque-Bera (JB):              476.774\n",
      "Skew:                          -0.050   Prob(JB):                    2.95e-104\n",
      "Kurtosis:                       1.086   Cond. No.                         275.\n",
      "==============================================================================\n",
      "\n",
      "Notes:\n",
      "[1] Standard Errors assume that the covariance matrix of the errors is correctly specified.\n"
     ]
    }
   ],
   "source": [
    "X = df2[['female', 'black', 'age']]\n",
    "y = df2['voted_roosevelt']\n",
    "X1 = sm.add_constant(X)\n",
    "model = sm.OLS(y, X1)\n",
    "results = model.fit()\n",
    "print(results.summary())"
   ]
  },
  {
   "cell_type": "markdown",
   "id": "85807dd5-74fd-48b5-936e-6288024d36a3",
   "metadata": {},
   "source": [
    "## Question 2e\n",
    "The female variable coefficient indicates that being female is associated with a 0.0626 unit decrease in voting for Roosevelt. \n",
    "\n",
    "The age variable coefficient indicates that for every year of age there is a .0046 unit increase in voting for Roosevelt.\n",
    "\n",
    "The black variable coefficient indicates that being black is associated with a 0.0411 unit decrease in voting for Roosevelt."
   ]
  }
 ],
 "metadata": {
  "kernelspec": {
   "display_name": "Python 3 (ipykernel)",
   "language": "python",
   "name": "python3"
  },
  "language_info": {
   "codemirror_mode": {
    "name": "ipython",
    "version": 3
   },
   "file_extension": ".py",
   "mimetype": "text/x-python",
   "name": "python",
   "nbconvert_exporter": "python",
   "pygments_lexer": "ipython3",
   "version": "3.8.18"
  }
 },
 "nbformat": 4,
 "nbformat_minor": 5
}
